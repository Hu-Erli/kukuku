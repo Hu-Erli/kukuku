{
  "nbformat": 4,
  "nbformat_minor": 0,
  "metadata": {
    "colab": {
      "name": "Лабораторная работа №2",
      "provenance": [],
      "include_colab_link": true
    },
    "kernelspec": {
      "name": "python3",
      "display_name": "Python 3"
    }
  },
  "cells": [
    {
      "cell_type": "markdown",
      "metadata": {
        "id": "view-in-github",
        "colab_type": "text"
      },
      "source": [
        "<a href=\"https://colab.research.google.com/github/Hu-Erli/kukuku/blob/main/%D0%9B%D0%B0%D0%B1%D0%BE%D1%80%D0%B0%D1%82%D0%BE%D1%80%D0%BD%D0%B0%D1%8F_%D1%80%D0%B0%D0%B1%D0%BE%D1%82%D0%B0_%E2%84%962.ipynb\" target=\"_parent\"><img src=\"https://colab.research.google.com/assets/colab-badge.svg\" alt=\"Open In Colab\"/></a>"
      ]
    },
    {
      "cell_type": "markdown",
      "metadata": {
        "id": "x8qbUbifSjYz"
      },
      "source": [
        "# Лабораторная работа №2 \r\n",
        "# «Описательная статистика и построение простых графиков при помощи Pandas»"
      ]
    },
    {
      "cell_type": "markdown",
      "metadata": {
        "id": "aVeHGmvzSwis"
      },
      "source": [
        "## Данные"
      ]
    },
    {
      "cell_type": "markdown",
      "metadata": {
        "id": "lUUh7ACqS4Wb"
      },
      "source": [
        "**Датасет:​** \n",
        "\n",
        "Australia weather forecast data\n",
        "\n",
        "**Описание:​** \n",
        "\n",
        "Этот набор данных содержит около 10 лет ежедневных наблюдений за погодой из города - Adelaide.\n",
        "Датасет содержит 1148 строки и следующие столбцы:\n",
        "\n",
        "*   Date – The date of observation.\n",
        "*   ReainToday – Boolean: 1 if precipitation (mm) in the 24 hours to 9am exceeds 1mm, otherwise 0.\n",
        "*   MinTemp – The minimum temperature in degrees celsius.\n",
        "*   MaxTemp – The maximum temperature in degrees celsius.\n",
        "*   Rainfall - The amount of rainfall recorded for the day in mm.\n",
        "*   Evaporation – The so-called Class A pan evaporation (mm) in the 24 hours to 9am.\n",
        "*   Sunshine – The number of hours of bright sunshine in the day.\n",
        "*   WindGustDir - The direction of the strongest wind gust in the 24 hours to midnight.\n",
        "*   WindGustSpeed - The speed (km/h) of the strongest wind gust in the 24 hours to midnight.\n",
        "*   WindDir9am - Direction of the wind at 9am."
      ]
    },
    {
      "cell_type": "markdown",
      "metadata": {
        "id": "krlSks_FSsAE"
      },
      "source": [
        "Полезная ссылочка на [документацию](https://pandas.pydata.org/pandas-docs/stable/index.html) Pandas."
      ]
    },
    {
      "cell_type": "markdown",
      "metadata": {
        "id": "6GP6TUCwUJJW"
      },
      "source": [
        "Загружаем датасет."
      ]
    },
    {
      "cell_type": "code",
      "metadata": {
        "id": "_zRSupPOQm6B"
      },
      "source": [
        "import pandas as pd"
      ],
      "execution_count": null,
      "outputs": []
    },
    {
      "cell_type": "code",
      "metadata": {
        "colab": {
          "base_uri": "https://localhost:8080/",
          "height": 224
        },
        "id": "-Vf5IVjMR3L0",
        "outputId": "36a4aa26-ce2b-4bf8-9705-57d7b5eaf2e9"
      },
      "source": [
        "df = pd.read_csv(\"weather.csv\")\n",
        "df.head()"
      ],
      "execution_count": null,
      "outputs": [
        {
          "output_type": "execute_result",
          "data": {
            "text/html": [
              "<div>\n",
              "<style scoped>\n",
              "    .dataframe tbody tr th:only-of-type {\n",
              "        vertical-align: middle;\n",
              "    }\n",
              "\n",
              "    .dataframe tbody tr th {\n",
              "        vertical-align: top;\n",
              "    }\n",
              "\n",
              "    .dataframe thead th {\n",
              "        text-align: right;\n",
              "    }\n",
              "</style>\n",
              "<table border=\"1\" class=\"dataframe\">\n",
              "  <thead>\n",
              "    <tr style=\"text-align: right;\">\n",
              "      <th></th>\n",
              "      <th>Date</th>\n",
              "      <th>RainToday</th>\n",
              "      <th>MinTemp</th>\n",
              "      <th>MaxTemp</th>\n",
              "      <th>Rainfall</th>\n",
              "      <th>Evaporation</th>\n",
              "      <th>Sunshine</th>\n",
              "      <th>WindGustDir</th>\n",
              "      <th>WindGustSpeed</th>\n",
              "      <th>WindDir9am</th>\n",
              "    </tr>\n",
              "  </thead>\n",
              "  <tbody>\n",
              "    <tr>\n",
              "      <th>0</th>\n",
              "      <td>2008/7/1</td>\n",
              "      <td>Yes</td>\n",
              "      <td>8.8</td>\n",
              "      <td>15.7</td>\n",
              "      <td>5.0</td>\n",
              "      <td>1.6</td>\n",
              "      <td>2.6</td>\n",
              "      <td>NW</td>\n",
              "      <td>48</td>\n",
              "      <td>SW</td>\n",
              "    </tr>\n",
              "    <tr>\n",
              "      <th>1</th>\n",
              "      <td>2008/7/2</td>\n",
              "      <td>No</td>\n",
              "      <td>12.7</td>\n",
              "      <td>15.8</td>\n",
              "      <td>0.8</td>\n",
              "      <td>1.4</td>\n",
              "      <td>7.8</td>\n",
              "      <td>SW</td>\n",
              "      <td>35</td>\n",
              "      <td>SSW</td>\n",
              "    </tr>\n",
              "    <tr>\n",
              "      <th>2</th>\n",
              "      <td>2008/7/3</td>\n",
              "      <td>No</td>\n",
              "      <td>6.2</td>\n",
              "      <td>15.1</td>\n",
              "      <td>0.0</td>\n",
              "      <td>1.8</td>\n",
              "      <td>2.1</td>\n",
              "      <td>W</td>\n",
              "      <td>20</td>\n",
              "      <td>NNE</td>\n",
              "    </tr>\n",
              "    <tr>\n",
              "      <th>3</th>\n",
              "      <td>2008/7/4</td>\n",
              "      <td>No</td>\n",
              "      <td>5.3</td>\n",
              "      <td>15.9</td>\n",
              "      <td>0.0</td>\n",
              "      <td>1.4</td>\n",
              "      <td>8.0</td>\n",
              "      <td>NNE</td>\n",
              "      <td>30</td>\n",
              "      <td>NNE</td>\n",
              "    </tr>\n",
              "    <tr>\n",
              "      <th>4</th>\n",
              "      <td>2008/7/7</td>\n",
              "      <td>Yes</td>\n",
              "      <td>7.6</td>\n",
              "      <td>11.2</td>\n",
              "      <td>16.2</td>\n",
              "      <td>4.6</td>\n",
              "      <td>1.1</td>\n",
              "      <td>WSW</td>\n",
              "      <td>46</td>\n",
              "      <td>WNW</td>\n",
              "    </tr>\n",
              "  </tbody>\n",
              "</table>\n",
              "</div>"
            ],
            "text/plain": [
              "       Date RainToday  MinTemp  ...  WindGustDir  WindGustSpeed  WindDir9am\n",
              "0  2008/7/1       Yes      8.8  ...           NW             48          SW\n",
              "1  2008/7/2        No     12.7  ...           SW             35         SSW\n",
              "2  2008/7/3        No      6.2  ...            W             20         NNE\n",
              "3  2008/7/4        No      5.3  ...          NNE             30         NNE\n",
              "4  2008/7/7       Yes      7.6  ...          WSW             46         WNW\n",
              "\n",
              "[5 rows x 10 columns]"
            ]
          },
          "metadata": {
            "tags": []
          },
          "execution_count": 44
        }
      ]
    },
    {
      "cell_type": "markdown",
      "metadata": {
        "id": "fs2pR6b-UMAL"
      },
      "source": [
        "## Описательная статистика датасета"
      ]
    },
    {
      "cell_type": "markdown",
      "metadata": {
        "id": "DF03uWSZUY8W"
      },
      "source": [
        "Получим типы данных, хранящихся в датафрейме. `object` в терминологии Pandas - это строка."
      ]
    },
    {
      "cell_type": "code",
      "metadata": {
        "colab": {
          "base_uri": "https://localhost:8080/"
        },
        "id": "gNclEWEmYSDc",
        "outputId": "1a256173-9486-455d-ce22-aa77769e8400"
      },
      "source": [
        "df.dtypes"
      ],
      "execution_count": null,
      "outputs": [
        {
          "output_type": "execute_result",
          "data": {
            "text/plain": [
              "Date              object\n",
              "RainToday         object\n",
              "MinTemp          float64\n",
              "MaxTemp          float64\n",
              "Rainfall         float64\n",
              "Evaporation      float64\n",
              "Sunshine         float64\n",
              "WindGustDir       object\n",
              "WindGustSpeed      int64\n",
              "WindDir9am        object\n",
              "dtype: object"
            ]
          },
          "metadata": {
            "tags": []
          },
          "execution_count": 8
        }
      ]
    },
    {
      "cell_type": "markdown",
      "metadata": {
        "id": "8_DljDqnYvbY"
      },
      "source": [
        "Получим размеры датафрейма. Первое значение кортежа - количество строк, второе - стобцов."
      ]
    },
    {
      "cell_type": "code",
      "metadata": {
        "colab": {
          "base_uri": "https://localhost:8080/"
        },
        "id": "QYegFLcoYbbF",
        "outputId": "e18f96d1-c5d5-4434-bb8f-926f379afafd"
      },
      "source": [
        "df.shape"
      ],
      "execution_count": null,
      "outputs": [
        {
          "output_type": "execute_result",
          "data": {
            "text/plain": [
              "(1148, 10)"
            ]
          },
          "metadata": {
            "tags": []
          },
          "execution_count": 9
        }
      ]
    },
    {
      "cell_type": "markdown",
      "metadata": {
        "id": "8CDB3GHqY3bi"
      },
      "source": [
        "С помощью метода `size` можно дополнительно узнать общее количество ячеек в датафрейме."
      ]
    },
    {
      "cell_type": "code",
      "metadata": {
        "colab": {
          "base_uri": "https://localhost:8080/"
        },
        "id": "naPHFhP_Ydom",
        "outputId": "09aded2b-28a5-4be4-bdf3-4b3bd6d475e0"
      },
      "source": [
        "df.size"
      ],
      "execution_count": null,
      "outputs": [
        {
          "output_type": "execute_result",
          "data": {
            "text/plain": [
              "11480"
            ]
          },
          "metadata": {
            "tags": []
          },
          "execution_count": 30
        }
      ]
    },
    {
      "cell_type": "markdown",
      "metadata": {
        "id": "wFKno6jPhf_x"
      },
      "source": [
        "Выясним, есть ли в датафрейме пустые значения."
      ]
    },
    {
      "cell_type": "code",
      "metadata": {
        "colab": {
          "base_uri": "https://localhost:8080/"
        },
        "id": "akSdEAEXSSqa",
        "outputId": "01eeca43-7b4a-4185-9d20-3d93d76a6f2d"
      },
      "source": [
        "cols = list(df.columns)\n",
        "cols.remove('Date')\n",
        "cols"
      ],
      "execution_count": null,
      "outputs": [
        {
          "output_type": "execute_result",
          "data": {
            "text/plain": [
              "['RainToday',\n",
              " 'MinTemp',\n",
              " 'MaxTemp',\n",
              " 'Rainfall',\n",
              " 'Evaporation',\n",
              " 'Sunshine',\n",
              " 'WindGustDir',\n",
              " 'WindGustSpeed',\n",
              " 'WindDir9am']"
            ]
          },
          "metadata": {
            "tags": []
          },
          "execution_count": 31
        }
      ]
    },
    {
      "cell_type": "code",
      "metadata": {
        "colab": {
          "base_uri": "https://localhost:8080/"
        },
        "id": "dzostkNJWZav",
        "outputId": "96a7dfec-a4fa-4830-922d-aebb03ad8f45"
      },
      "source": [
        "df_na = {col: list(pd.isna(df[col])).count(True) for col in cols}\n",
        "df_na"
      ],
      "execution_count": null,
      "outputs": [
        {
          "output_type": "execute_result",
          "data": {
            "text/plain": [
              "{'Evaporation': 0,\n",
              " 'MaxTemp': 0,\n",
              " 'MinTemp': 0,\n",
              " 'RainToday': 0,\n",
              " 'Rainfall': 0,\n",
              " 'Sunshine': 0,\n",
              " 'WindDir9am': 0,\n",
              " 'WindGustDir': 0,\n",
              " 'WindGustSpeed': 0}"
            ]
          },
          "metadata": {
            "tags": []
          },
          "execution_count": 32
        }
      ]
    },
    {
      "cell_type": "markdown",
      "metadata": {
        "id": "l49iZ1MWhk9h"
      },
      "source": [
        "Если пустые ячейки есть, то пока что можно просто удалить соответствующие строки методом [dropna](https://pandas.pydata.org/pandas-docs/stable/reference/api/pandas.DataFrame.dropna.html)."
      ]
    },
    {
      "cell_type": "markdown",
      "metadata": {
        "id": "vXiFLaBah5dA"
      },
      "source": [
        "Для нечисловых значений посчитаем частоту встречаемости."
      ]
    },
    {
      "cell_type": "code",
      "metadata": {
        "colab": {
          "base_uri": "https://localhost:8080/"
        },
        "id": "-sKf5uizXt26",
        "outputId": "093d7b9a-50b7-4954-f562-2f7b628c534a"
      },
      "source": [
        "nom_cols_data = [{name: df[col].to_list().count(name) for name in df[col].unique()}\n",
        "                 for col in cols\n",
        "                 if df[col].dtype == \"object\"]\n",
        "nom_cols_data\n"
      ],
      "execution_count": null,
      "outputs": [
        {
          "output_type": "execute_result",
          "data": {
            "text/plain": [
              "[{'No': 889, 'Yes': 259},\n",
              " {'E': 24,\n",
              "  'ENE': 29,\n",
              "  'ESE': 79,\n",
              "  'N': 95,\n",
              "  'NE': 37,\n",
              "  'NNE': 36,\n",
              "  'NNW': 64,\n",
              "  'NW': 76,\n",
              "  'S': 16,\n",
              "  'SE': 71,\n",
              "  'SSE': 81,\n",
              "  'SSW': 32,\n",
              "  'SW': 144,\n",
              "  'W': 125,\n",
              "  'WNW': 77,\n",
              "  'WSW': 162},\n",
              " {'E': 37,\n",
              "  'ENE': 56,\n",
              "  'ESE': 42,\n",
              "  'N': 155,\n",
              "  'NE': 161,\n",
              "  'NNE': 143,\n",
              "  'NNW': 53,\n",
              "  'NW': 36,\n",
              "  'S': 93,\n",
              "  'SE': 44,\n",
              "  'SSE': 40,\n",
              "  'SSW': 74,\n",
              "  'SW': 91,\n",
              "  'W': 33,\n",
              "  'WNW': 42,\n",
              "  'WSW': 48}]"
            ]
          },
          "metadata": {
            "tags": []
          },
          "execution_count": 33
        }
      ]
    },
    {
      "cell_type": "markdown",
      "metadata": {
        "id": "4VEHdi_zh_R7"
      },
      "source": [
        "Так как числовые значения присутствуют только в одном на данный момент значимом стобце (возраст), посчитаем для этого столбца некоторые меры центральной тенденции и разброса:\n",
        "\n",
        "\n",
        "*   минимальное значение\n",
        "*   максимальное значение\n",
        "*   среднее арифметическое\n",
        "*   моду\n",
        "*   медиану\n",
        "*   дисперсию\n",
        "*   стандартное отклонение\n",
        "*   размах\n",
        "*   интерквартильный размах\n",
        "*   индекс асимметрии\n",
        "\n"
      ]
    },
    {
      "cell_type": "code",
      "metadata": {
        "colab": {
          "base_uri": "https://localhost:8080/"
        },
        "id": "IbOZG8X8caPU",
        "outputId": "572e5e28-4127-489a-8cb0-2dca72409c16"
      },
      "source": [
        "MinTemp_stat = {\"min\": df[\"MinTemp\"].min(), \n",
        "            \"max\": df[\"MinTemp\"].max(), \n",
        "            \"mean\": df[\"MinTemp\"].mean(),\n",
        "            \"median\": df[\"MinTemp\"].median(),\n",
        "            \"mode\": df[\"MinTemp\"].mode().to_list(),\n",
        "            \"var\": df[\"MinTemp\"].var(ddof=0),\n",
        "            \"std\": df[\"MinTemp\"].std(ddof=0),\n",
        "            \"range\": df[\"MinTemp\"].max() - df[\"MinTemp\"].min(),\n",
        "            \"interquartile_range\": df[\"MinTemp\"].quantile(0.75) - df[\"MinTemp\"].quantile(0.25),\n",
        "            \"skew\": df[\"MinTemp\"].skew()\n",
        "            }\n",
        "MinTemp_stat"
      ],
      "execution_count": null,
      "outputs": [
        {
          "output_type": "execute_result",
          "data": {
            "text/plain": [
              "{'interquartile_range': 6.200000000000001,\n",
              " 'max': 33.9,\n",
              " 'mean': 13.155487804878035,\n",
              " 'median': 12.8,\n",
              " 'min': 0.7,\n",
              " 'mode': [15.5],\n",
              " 'range': 33.199999999999996,\n",
              " 'skew': 0.5501041004130283,\n",
              " 'std': 5.051535405565713,\n",
              " 'var': 25.51800995368395}"
            ]
          },
          "metadata": {
            "tags": []
          },
          "execution_count": 34
        }
      ]
    },
    {
      "cell_type": "markdown",
      "metadata": {
        "id": "bD2SeqbkRFfh"
      },
      "source": [
        "Построим график распределения количества заражений по каждому возрасту."
      ]
    },
    {
      "cell_type": "code",
      "metadata": {
        "colab": {
          "base_uri": "https://localhost:8080/"
        },
        "id": "5Di3cgUcioFx",
        "outputId": "419cdd04-d23d-4e96-da49-a490edd06b6e"
      },
      "source": [
        "MinTemp_data = {MinTemp: df[\"MinTemp\"].to_list().count(MinTemp) for MinTemp in set(df[\"MinTemp\"])}\n",
        "print(MinTemp_data)"
      ],
      "execution_count": null,
      "outputs": [
        {
          "output_type": "stream",
          "text": [
            "{0.7: 1, 2.6: 1, 3.1: 1, 4.9: 3, 5.3: 7, 6.2: 5, 7.4: 4, 7.6: 5, 8.8: 6, 8.4: 8, 9.5: 14, 8.2: 11, 12.7: 12, 10.0: 13, 11.1: 13, 9.8: 12, 8.5: 11, 10.6: 14, 13.9: 11, 14.9: 10, 13.1: 8, 14.0: 9, 15.0: 7, 18.3: 7, 24.1: 1, 5.5: 1, 22.5: 2, 19.1: 4, 21.1: 3, 21.2: 2, 6.5: 7, 30.7: 1, 33.9: 1, 29.4: 1, 28.3: 2, 7.0: 7, 7.5: 5, 6.0: 5, 8.0: 2, 9.0: 7, 10.5: 7, 11.5: 8, 11.0: 6, 12.5: 6, 12.0: 5, 13.0: 9, 13.5: 7, 4.2: 1, 14.5: 8, 15.5: 15, 16.0: 9, 16.4: 3, 3.5: 2, 16.6: 4, 16.1: 4, 17.5: 3, 17.4: 5, 17.1: 3, 17.6: 2, 17.9: 4, 18.0: 5, 18.5: 10, 18.4: 6, 18.6: 4, 18.9: 3, 19.0: 7, 19.4: 4, 19.9: 6, 19.5: 4, 18.1: 5, 20.0: 4, 20.9: 4, 20.6: 3, 20.4: 3, 19.6: 2, 21.5: 5, 21.0: 4, 4.5: 1, 2.9: 1, 21.9: 2, 22.9: 2, 21.6: 5, 22.0: 1, 22.6: 1, 3.4: 1, 23.4: 1, 23.5: 2, 23.6: 5, 22.1: 2, 22.4: 1, 24.5: 3, 24.4: 1, 24.0: 1, 23.0: 3, 24.6: 1, 25.4: 1, 25.9: 2, 26.0: 1, 5.0: 1, 26.1: 1, 27.6: 1, 27.1: 1, 28.9: 1, 29.9: 1, 29.0: 1, 4.4: 1, 5.4: 3, 5.9: 3, 6.4: 3, 6.9: 4, 7.9: 7, 8.9: 4, 9.4: 7, 9.9: 10, 10.4: 9, 10.9: 8, 11.4: 10, 11.9: 8, 12.4: 6, 12.9: 8, 13.4: 2, 16.9: 3, 14.4: 11, 20.1: 2, 2.3: 2, 15.4: 11, 15.9: 3, 3.3: 1, 3.8: 1, 4.8: 5, 5.8: 3, 6.3: 7, 6.8: 3, 7.3: 3, 7.8: 5, 8.3: 6, 8.7: 4, 9.2: 4, 9.7: 8, 9.3: 10, 10.8: 11, 10.2: 11, 10.7: 14, 10.3: 9, 11.3: 8, 11.7: 8, 11.8: 12, 11.2: 10, 12.2: 8, 12.8: 6, 12.3: 9, 13.3: 12, 13.8: 10, 13.7: 8, 13.2: 14, 21.4: 1, 14.3: 14, 14.2: 13, 14.7: 5, 14.8: 10, 2.4: 1, 15.7: 6, 15.8: 9, 15.2: 10, 15.3: 6, 3.7: 3, 16.2: 4, 16.7: 9, 16.3: 11, 16.8: 2, 4.7: 3, 17.3: 6, 17.2: 2, 17.7: 2, 17.8: 2, 5.7: 3, 18.8: 2, 18.7: 4, 18.2: 1, 5.2: 3, 6.7: 2, 19.3: 3, 19.2: 3, 19.8: 2, 7.7: 7, 20.7: 2, 7.2: 8, 20.3: 4, 20.2: 1, 20.8: 2, 21.3: 2, 21.8: 2, 21.7: 2, 22.2: 2, 22.8: 3, 22.3: 1, 23.7: 1, 23.3: 2, 23.8: 1, 24.8: 1, 24.3: 2, 24.7: 1, 25.3: 2, 26.3: 1, 26.7: 1, 26.8: 1, 28.2: 1, 28.7: 1, 4.1: 3, 3.0: 1, 16.5: 5, 5.1: 1, 5.6: 1, 6.1: 6, 6.6: 6, 7.1: 3, 8.6: 6, 8.1: 6, 9.1: 7, 9.6: 6, 3.6: 4, 17.0: 4, 10.1: 6, 11.6: 9, 12.6: 5, 12.1: 12, 13.6: 10, 14.6: 9, 14.1: 11, 15.1: 11, 15.6: 7, 4.0: 1, 20.5: 1}\n"
          ],
          "name": "stdout"
        }
      ]
    },
    {
      "cell_type": "code",
      "metadata": {
        "id": "TukFp1zdmiNi"
      },
      "source": [
        "import matplotlib.pyplot as plt"
      ],
      "execution_count": null,
      "outputs": []
    },
    {
      "cell_type": "code",
      "metadata": {
        "colab": {
          "base_uri": "https://localhost:8080/",
          "height": 204
        },
        "id": "j_L_0H3-muWe",
        "outputId": "cf2e9f86-f1fd-4fe3-e8fd-46147891d68f"
      },
      "source": [
        "MinTemp_df = pd.DataFrame.from_dict(data=MinTemp_data, orient=\"index\", columns=[\"MinTemp\"])\n",
        "MinTemp_df.head()"
      ],
      "execution_count": null,
      "outputs": [
        {
          "output_type": "execute_result",
          "data": {
            "text/html": [
              "<div>\n",
              "<style scoped>\n",
              "    .dataframe tbody tr th:only-of-type {\n",
              "        vertical-align: middle;\n",
              "    }\n",
              "\n",
              "    .dataframe tbody tr th {\n",
              "        vertical-align: top;\n",
              "    }\n",
              "\n",
              "    .dataframe thead th {\n",
              "        text-align: right;\n",
              "    }\n",
              "</style>\n",
              "<table border=\"1\" class=\"dataframe\">\n",
              "  <thead>\n",
              "    <tr style=\"text-align: right;\">\n",
              "      <th></th>\n",
              "      <th>MinTemp</th>\n",
              "    </tr>\n",
              "  </thead>\n",
              "  <tbody>\n",
              "    <tr>\n",
              "      <th>0.7</th>\n",
              "      <td>1</td>\n",
              "    </tr>\n",
              "    <tr>\n",
              "      <th>2.6</th>\n",
              "      <td>1</td>\n",
              "    </tr>\n",
              "    <tr>\n",
              "      <th>3.1</th>\n",
              "      <td>1</td>\n",
              "    </tr>\n",
              "    <tr>\n",
              "      <th>4.9</th>\n",
              "      <td>3</td>\n",
              "    </tr>\n",
              "    <tr>\n",
              "      <th>5.3</th>\n",
              "      <td>7</td>\n",
              "    </tr>\n",
              "  </tbody>\n",
              "</table>\n",
              "</div>"
            ],
            "text/plain": [
              "     MinTemp\n",
              "0.7        1\n",
              "2.6        1\n",
              "3.1        1\n",
              "4.9        3\n",
              "5.3        7"
            ]
          },
          "metadata": {
            "tags": []
          },
          "execution_count": 47
        }
      ]
    },
    {
      "cell_type": "code",
      "metadata": {
        "id": "IqeahLA1B_zR"
      },
      "source": [
        "from matplotlib.pyplot import MultipleLocator"
      ],
      "execution_count": null,
      "outputs": []
    },
    {
      "cell_type": "code",
      "metadata": {
        "colab": {
          "base_uri": "https://localhost:8080/",
          "height": 278
        },
        "id": "NJdpnm1DnSb8",
        "outputId": "01c7961e-403f-4303-dbf6-247d9f3f59e3"
      },
      "source": [
        "MinTemp_df.plot.bar() \r\n",
        "x_major_locator=MultipleLocator(1)\r\n",
        "ax=plt.gca()\r\n",
        "ax.xaxis.set_major_locator(x_major_locator)\r\n",
        "plt.xlim(0.7,33.9)\r\n",
        "plt.show()"
      ],
      "execution_count": null,
      "outputs": [
        {
          "output_type": "display_data",
          "data": {
            "image/png": "[encoded data removed]",
            "text/plain": [
              "<Figure size 432x288 with 1 Axes>"
            ]
          },
          "metadata": {
            "tags": [],
            "needs_background": "light"
          }
        }
      ]
    },
    {
      "cell_type": "code",
      "metadata": {
        "colab": {
          "base_uri": "https://localhost:8080/"
        },
        "id": "pSXXdmmylOcE",
        "outputId": "fe8c960b-839c-4238-ba0c-5835ef7805c8"
      },
      "source": [
        "MaxTemp_data = {MaxTemp: df[\"MaxTemp\"].to_list().count(MaxTemp) for MaxTemp in set(df[\"MaxTemp\"])}\r\n",
        "print(MaxTemp_data)"
      ],
      "execution_count": null,
      "outputs": [
        {
          "output_type": "stream",
          "text": [
            "{37.3: 1, 11.2: 1, 11.9: 3, 13.0: 2, 14.2: 4, 14.9: 7, 13.5: 1, 14.3: 1, 15.9: 6, 15.1: 9, 15.8: 8, 15.7: 11, 13.1: 4, 14.0: 4, 15.4: 6, 16.4: 7, 26.2: 7, 27.8: 3, 27.9: 3, 21.9: 11, 24.9: 12, 24.8: 9, 23.9: 8, 28.0: 4, 27.2: 5, 26.6: 2, 31.0: 2, 30.9: 4, 29.5: 4, 34.5: 3, 36.6: 2, 35.2: 1, 41.3: 1, 38.5: 2, 36.9: 3, 43.2: 1, 45.7: 1, 43.4: 1, 43.1: 2, 43.9: 1, 43.0: 2, 42.8: 1, 34.6: 1, 45.0: 1, 45.1: 1, 12.0: 1, 12.5: 2, 14.5: 3, 15.0: 7, 15.5: 7, 32.6: 1, 16.1: 13, 16.6: 5, 16.0: 10, 16.9: 7, 16.5: 6, 17.0: 7, 17.5: 11, 17.6: 6, 17.1: 14, 17.4: 8, 18.0: 9, 18.1: 11, 18.4: 4, 18.9: 2, 18.5: 8, 19.4: 4, 19.0: 2, 19.9: 7, 19.6: 5, 18.6: 4, 20.4: 11, 20.1: 4, 20.5: 2, 20.0: 5, 20.9: 4, 21.0: 4, 21.1: 7, 21.6: 9, 21.5: 4, 21.4: 7, 22.5: 11, 22.6: 8, 22.1: 9, 22.0: 7, 22.4: 6, 23.6: 5, 23.0: 6, 22.9: 5, 23.1: 4, 23.4: 5, 24.1: 7, 24.6: 6, 24.4: 3, 24.5: 4, 23.5: 4, 25.9: 2, 25.5: 5, 25.0: 4, 25.1: 6, 25.6: 5, 26.0: 3, 26.1: 6, 26.9: 3, 26.4: 1, 25.4: 3, 27.0: 3, 27.6: 7, 27.4: 4, 27.5: 3, 27.1: 4, 28.6: 3, 28.4: 1, 28.5: 2, 28.9: 5, 28.1: 6, 29.0: 6, 29.4: 1, 29.6: 2, 38.6: 1, 29.9: 2, 30.1: 4, 30.5: 2, 30.0: 3, 34.9: 2, 29.1: 3, 31.5: 2, 31.9: 2, 31.4: 4, 31.6: 1, 30.4: 3, 31.1: 2, 32.3: 4, 32.4: 4, 32.2: 4, 32.0: 5, 32.5: 5, 33.0: 3, 33.1: 7, 33.9: 5, 33.7: 5, 32.9: 3, 34.2: 2, 34.1: 2, 33.6: 2, 33.4: 3, 34.3: 2, 35.6: 3, 35.4: 1, 35.1: 1, 34.0: 1, 34.8: 3, 36.3: 1, 36.2: 2, 36.0: 2, 36.4: 2, 19.1: 5, 37.9: 1, 37.0: 3, 37.2: 1, 12.4: 2, 37.5: 1, 38.8: 1, 38.7: 2, 13.9: 4, 13.4: 3, 38.9: 2, 39.2: 4, 38.2: 2, 14.4: 7, 38.3: 1, 38.1: 1, 40.8: 1, 40.2: 1, 39.0: 1, 39.6: 1, 32.7: 1, 41.6: 1, 20.6: 6, 11.4: 1, 40.6: 1, 41.2: 1, 42.9: 1, 41.0: 1, 42.1: 1, 42.7: 1, 35.9: 3, 37.4: 1, 43.7: 1, 42.5: 1, 44.2: 1, 17.9: 4, 33.2: 1, 12.9: 1, 37.6: 1, 39.9: 1, 35.7: 1, 36.7: 2, 12.8: 1, 12.7: 2, 12.3: 1, 13.8: 5, 13.2: 3, 13.7: 2, 33.5: 2, 14.7: 7, 14.8: 8, 15.3: 9, 15.2: 7, 16.8: 7, 16.7: 1, 16.2: 9, 16.3: 6, 17.8: 9, 17.7: 6, 17.3: 8, 17.2: 5, 18.7: 10, 18.8: 5, 18.3: 9, 18.2: 6, 19.3: 10, 19.8: 7, 19.7: 4, 19.2: 1, 20.3: 3, 20.7: 6, 20.8: 4, 20.2: 4, 21.3: 6, 21.2: 10, 21.7: 8, 21.8: 6, 22.2: 9, 22.8: 8, 22.3: 6, 22.7: 5, 23.2: 6, 23.8: 7, 23.3: 4, 35.0: 3, 23.7: 2, 24.3: 8, 24.2: 7, 24.7: 1, 25.2: 3, 25.3: 6, 25.8: 2, 25.7: 1, 26.3: 4, 26.8: 8, 26.7: 3, 27.7: 6, 27.3: 3, 32.8: 1, 28.3: 7, 28.7: 2, 28.2: 2, 28.8: 4, 36.5: 1, 29.3: 3, 29.7: 2, 29.2: 4, 29.8: 3, 30.7: 1, 30.3: 1, 30.2: 6, 30.8: 2, 31.7: 2, 31.3: 2, 31.8: 2, 31.2: 2, 33.3: 2, 33.8: 1, 41.7: 1, 38.0: 1, 13.6: 5, 30.6: 1, 14.1: 2, 14.6: 7, 15.6: 8, 35.3: 3, 24.0: 6, 35.8: 1, 19.5: 5, 36.8: 3, 32.1: 7}\n"
          ],
          "name": "stdout"
        }
      ]
    },
    {
      "cell_type": "code",
      "metadata": {
        "colab": {
          "base_uri": "https://localhost:8080/",
          "height": 204
        },
        "id": "Rnzdiku_KE4V",
        "outputId": "e59edc50-53b3-4072-8642-74b582037299"
      },
      "source": [
        "MaxTemp_df = pd.DataFrame.from_dict(data=MaxTemp_data, orient=\"index\", columns=[\"MaxTemp\"])\n",
        "MaxTemp_df.head()"
      ],
      "execution_count": null,
      "outputs": [
        {
          "output_type": "execute_result",
          "data": {
            "text/html": [
              "<div>\n",
              "<style scoped>\n",
              "    .dataframe tbody tr th:only-of-type {\n",
              "        vertical-align: middle;\n",
              "    }\n",
              "\n",
              "    .dataframe tbody tr th {\n",
              "        vertical-align: top;\n",
              "    }\n",
              "\n",
              "    .dataframe thead th {\n",
              "        text-align: right;\n",
              "    }\n",
              "</style>\n",
              "<table border=\"1\" class=\"dataframe\">\n",
              "  <thead>\n",
              "    <tr style=\"text-align: right;\">\n",
              "      <th></th>\n",
              "      <th>MaxTemp</th>\n",
              "    </tr>\n",
              "  </thead>\n",
              "  <tbody>\n",
              "    <tr>\n",
              "      <th>37.3</th>\n",
              "      <td>1</td>\n",
              "    </tr>\n",
              "    <tr>\n",
              "      <th>11.2</th>\n",
              "      <td>1</td>\n",
              "    </tr>\n",
              "    <tr>\n",
              "      <th>11.9</th>\n",
              "      <td>3</td>\n",
              "    </tr>\n",
              "    <tr>\n",
              "      <th>13.0</th>\n",
              "      <td>2</td>\n",
              "    </tr>\n",
              "    <tr>\n",
              "      <th>14.2</th>\n",
              "      <td>4</td>\n",
              "    </tr>\n",
              "  </tbody>\n",
              "</table>\n",
              "</div>"
            ],
            "text/plain": [
              "      MaxTemp\n",
              "37.3        1\n",
              "11.2        1\n",
              "11.9        3\n",
              "13.0        2\n",
              "14.2        4"
            ]
          },
          "metadata": {
            "tags": []
          },
          "execution_count": 51
        }
      ]
    },
    {
      "cell_type": "code",
      "metadata": {
        "colab": {
          "base_uri": "https://localhost:8080/",
          "height": 278
        },
        "id": "I1lH4G9ZKbDs",
        "outputId": "f19a596d-85d3-4f39-9042-8f6a04ed59de"
      },
      "source": [
        "MaxTemp_df.plot.bar() \r\n",
        "x_major_locator=MultipleLocator(1)\r\n",
        "ax=plt.gca()\r\n",
        "ax.xaxis.set_major_locator(x_major_locator)\r\n",
        "plt.xlim(11.2,45.7)\r\n",
        "plt.show()"
      ],
      "execution_count": null,
      "outputs": [
        {
          "output_type": "display_data",
          "data": {
            "image/png": "[encoded data removed]",
            "text/plain": [
              "<Figure size 432x288 with 1 Axes>"
            ]
          },
          "metadata": {
            "tags": [],
            "needs_background": "light"
          }
        }
      ]
    },
    {
      "cell_type": "code",
      "metadata": {
        "colab": {
          "base_uri": "https://localhost:8080/"
        },
        "id": "mxEWelgyLwiI",
        "outputId": "11cde155-e3f7-4d8d-860e-995cec07131e"
      },
      "source": [
        "RainToday_data = {RainToday: df[\"RainToday\"].to_list().count(RainToday) for RainToday in set(df[\"RainToday\"])}\r\n",
        "print(RainToday_data)"
      ],
      "execution_count": null,
      "outputs": [
        {
          "output_type": "stream",
          "text": [
            "{'Yes': 259, 'No': 889}\n"
          ],
          "name": "stdout"
        }
      ]
    },
    {
      "cell_type": "code",
      "metadata": {
        "id": "iwBZePwgNKbb",
        "colab": {
          "base_uri": "https://localhost:8080/",
          "height": 111
        },
        "outputId": "6c1adf28-73ec-4cfa-ce4d-9ea5194490e8"
      },
      "source": [
        "RainToday_df = pd.DataFrame.from_dict(data=RainToday_data, orient=\"index\", columns=[\"RainToday\"])\r\n",
        "RainToday_df.head()"
      ],
      "execution_count": null,
      "outputs": [
        {
          "output_type": "execute_result",
          "data": {
            "text/html": [
              "<div>\n",
              "<style scoped>\n",
              "    .dataframe tbody tr th:only-of-type {\n",
              "        vertical-align: middle;\n",
              "    }\n",
              "\n",
              "    .dataframe tbody tr th {\n",
              "        vertical-align: top;\n",
              "    }\n",
              "\n",
              "    .dataframe thead th {\n",
              "        text-align: right;\n",
              "    }\n",
              "</style>\n",
              "<table border=\"1\" class=\"dataframe\">\n",
              "  <thead>\n",
              "    <tr style=\"text-align: right;\">\n",
              "      <th></th>\n",
              "      <th>RainToday</th>\n",
              "    </tr>\n",
              "  </thead>\n",
              "  <tbody>\n",
              "    <tr>\n",
              "      <th>Yes</th>\n",
              "      <td>259</td>\n",
              "    </tr>\n",
              "    <tr>\n",
              "      <th>No</th>\n",
              "      <td>889</td>\n",
              "    </tr>\n",
              "  </tbody>\n",
              "</table>\n",
              "</div>"
            ],
            "text/plain": [
              "     RainToday\n",
              "Yes        259\n",
              "No         889"
            ]
          },
          "metadata": {
            "tags": []
          },
          "execution_count": 117
        }
      ]
    },
    {
      "cell_type": "code",
      "metadata": {
        "colab": {
          "base_uri": "https://localhost:8080/",
          "height": 303
        },
        "id": "_OL1dH-hLKuj",
        "outputId": "4b3e6fab-b4aa-4c8b-ea15-70ad248d6b21"
      },
      "source": [
        "plt.figure(figsize=(5,5))\r\n",
        "labels = [u'Yes', u'No']\r\n",
        "sizes = [259, 889]\r\n",
        "colors = ['red', 'lightskyblue']\r\n",
        "explode = (0,0)\r\n",
        "patches,text1,text2 = plt.pie(sizes,\r\n",
        "                      explode=explode,\r\n",
        "                      labels=labels,\r\n",
        "                      colors=colors,\r\n",
        "                      autopct = '%3.2f%%', #数值保留固定小数位\r\n",
        "                      shadow = False, #无阴影设置\r\n",
        "                      startangle =90, #逆时针起始角度设置\r\n",
        "                      pctdistance = 0.6)\r\n",
        "plt.axis('equal')\r\n",
        "plt.show()"
      ],
      "execution_count": null,
      "outputs": [
        {
          "output_type": "display_data",
          "data": {
            "image/png": "[encoded data removed]",
            "text/plain": [
              "<Figure size 360x360 with 1 Axes>"
            ]
          },
          "metadata": {
            "tags": []
          }
        }
      ]
    },
    {
      "cell_type": "markdown",
      "metadata": {
        "id": "JxC0bI1ARRCm"
      },
      "source": [
        "Сравним, как картинка будет выглядеть для женщин и для мужчин. Для начала найдем количество записей о женщинах и о мужчинах."
      ]
    },
    {
      "cell_type": "code",
      "metadata": {
        "colab": {
          "base_uri": "https://localhost:8080/"
        },
        "id": "oT4lkgKyn1a_",
        "outputId": "b094e820-3149-4d5d-d1a9-0766cf80d068"
      },
      "source": [
        "Rainfall_data = {Rainfall: df[\"Rainfall\"].to_list().count(Rainfall) for Rainfall in set(df[\"Rainfall\"])}\n",
        "print(Rainfall_data)"
      ],
      "execution_count": null,
      "outputs": [
        {
          "output_type": "stream",
          "text": [
            "{0.8: 23, 0.0: 753, 1.8: 10, 3.8: 3, 4.0: 7, 5.0: 4, 1.4: 19, 6.8: 2, 3.4: 11, 9.0: 2, 8.2: 3, 11.2: 1, 2.0: 14, 1.0: 16, 6.2: 5, 10.2: 2, 16.2: 3, 17.0: 2, 10.8: 2, 18.0: 1, 16.6: 1, 21.4: 1, 22.0: 1, 14.2: 2, 24.2: 1, 3.0: 5, 17.2: 1, 24.4: 2, 28.8: 1, 28.4: 1, 29.0: 1, 6.0: 4, 30.2: 1, 34.0: 1, 7.0: 1, 37.6: 1, 38.8: 1, 8.0: 1, 10.0: 1, 12.0: 1, 13.0: 2, 15.0: 1, 20.4: 1, 2.4: 7, 0.2: 49, 4.4: 4, 5.4: 3, 6.4: 4, 7.4: 3, 8.4: 1, 10.4: 2, 11.4: 2, 12.4: 1, 13.4: 1, 2.8: 9, 15.4: 1, 4.8: 3, 5.8: 2, 7.8: 4, 0.6: 17, 0.4: 31, 8.8: 2, 9.8: 2, 9.2: 2, 1.2: 13, 2.2: 10, 15.2: 1, 3.2: 4, 4.2: 4, 5.2: 5, 7.2: 2, 4.6: 4, 5.6: 3, 6.6: 1, 1.6: 17, 8.6: 4, 2.6: 8, 3.6: 1, 11.6: 1, 12.6: 1, 15.6: 3}\n"
          ],
          "name": "stdout"
        }
      ]
    },
    {
      "cell_type": "code",
      "metadata": {
        "colab": {
          "base_uri": "https://localhost:8080/",
          "height": 204
        },
        "id": "g6A7IhUsoMRL",
        "outputId": "3ddc1b3e-6637-4559-ec28-388e8ed47c9c"
      },
      "source": [
        "Rainfall_df = pd.DataFrame.from_dict(data=Rainfall_data, orient=\"index\", columns=[\"Rainfall\"])\n",
        "Rainfall_df.head()"
      ],
      "execution_count": null,
      "outputs": [
        {
          "output_type": "execute_result",
          "data": {
            "text/html": [
              "<div>\n",
              "<style scoped>\n",
              "    .dataframe tbody tr th:only-of-type {\n",
              "        vertical-align: middle;\n",
              "    }\n",
              "\n",
              "    .dataframe tbody tr th {\n",
              "        vertical-align: top;\n",
              "    }\n",
              "\n",
              "    .dataframe thead th {\n",
              "        text-align: right;\n",
              "    }\n",
              "</style>\n",
              "<table border=\"1\" class=\"dataframe\">\n",
              "  <thead>\n",
              "    <tr style=\"text-align: right;\">\n",
              "      <th></th>\n",
              "      <th>Rainfall</th>\n",
              "    </tr>\n",
              "  </thead>\n",
              "  <tbody>\n",
              "    <tr>\n",
              "      <th>0.8</th>\n",
              "      <td>23</td>\n",
              "    </tr>\n",
              "    <tr>\n",
              "      <th>0.0</th>\n",
              "      <td>753</td>\n",
              "    </tr>\n",
              "    <tr>\n",
              "      <th>1.8</th>\n",
              "      <td>10</td>\n",
              "    </tr>\n",
              "    <tr>\n",
              "      <th>3.8</th>\n",
              "      <td>3</td>\n",
              "    </tr>\n",
              "    <tr>\n",
              "      <th>4.0</th>\n",
              "      <td>7</td>\n",
              "    </tr>\n",
              "  </tbody>\n",
              "</table>\n",
              "</div>"
            ],
            "text/plain": [
              "     Rainfall\n",
              "0.8        23\n",
              "0.0       753\n",
              "1.8        10\n",
              "3.8         3\n",
              "4.0         7"
            ]
          },
          "metadata": {
            "tags": []
          },
          "execution_count": 14
        }
      ]
    },
    {
      "cell_type": "code",
      "metadata": {
        "colab": {
          "base_uri": "https://localhost:8080/",
          "height": 283
        },
        "id": "HaFnuQxraZl2",
        "outputId": "4e038a6f-9541-45d0-e279-e61daa77575c"
      },
      "source": [
        "Rainfall_df.plot.density()"
      ],
      "execution_count": null,
      "outputs": [
        {
          "output_type": "execute_result",
          "data": {
            "text/plain": [
              "<matplotlib.axes._subplots.AxesSubplot at 0x7fc2dd8c2990>"
            ]
          },
          "metadata": {
            "tags": []
          },
          "execution_count": 20
        },
        {
          "output_type": "display_data",
          "data": {
            "image/png": "[encoded data removed]",
            "text/plain": [
              "<Figure size 432x288 with 1 Axes>"
            ]
          },
          "metadata": {
            "tags": [],
            "needs_background": "light"
          }
        }
      ]
    },
    {
      "cell_type": "code",
      "metadata": {
        "colab": {
          "base_uri": "https://localhost:8080/"
        },
        "id": "TJB9sA0_sVGJ",
        "outputId": "09704cee-656e-4f9b-9883-768ad865f2e3"
      },
      "source": [
        "Sunshine_data = {Sunshine: df[\"Sunshine\"].to_list().count(Sunshine) for Sunshine in set(df[\"Sunshine\"])}\r\n",
        "print(Sunshine_data)"
      ],
      "execution_count": null,
      "outputs": [
        {
          "output_type": "stream",
          "text": [
            "{0.8: 8, 1.1: 7, 2.6: 6, 2.1: 5, 4.3: 7, 0.5: 7, 2.3: 7, 7.8: 12, 8.0: 20, 7.2: 4, 3.8: 7, 3.5: 5, 5.9: 3, 9.2: 12, 7.9: 4, 7.3: 7, 7.0: 5, 9.3: 14, 2.0: 5, 10.3: 13, 11.0: 15, 12.0: 9, 13.8: 5, 3.0: 6, 4.0: 5, 4.5: 7, 5.0: 9, 5.5: 11, 6.5: 6, 1.0: 11, 0.0: 31, 6.0: 8, 1.5: 1, 7.5: 7, 8.5: 10, 9.0: 15, 9.5: 7, 10.0: 3, 10.5: 8, 11.5: 7, 2.5: 4, 12.5: 19, 13.0: 13, 13.5: 8, 1.4: 5, 1.9: 8, 2.4: 7, 2.9: 5, 3.4: 4, 3.9: 7, 0.2: 9, 4.4: 7, 4.9: 8, 5.4: 6, 6.4: 12, 6.9: 5, 7.4: 6, 8.4: 12, 8.9: 13, 9.4: 13, 9.9: 10, 10.9: 17, 10.4: 14, 11.4: 13, 11.9: 9, 12.9: 8, 12.4: 12, 13.9: 1, 13.4: 7, 2.8: 5, 3.3: 5, 4.8: 3, 1.3: 2, 1.8: 1, 5.8: 5, 5.3: 6, 6.8: 5, 6.3: 6, 0.6: 3, 0.4: 6, 0.9: 5, 8.3: 6, 8.8: 7, 8.7: 8, 8.2: 7, 9.7: 9, 9.8: 7, 0.7: 6, 10.2: 10, 10.8: 9, 10.7: 19, 1.2: 4, 1.7: 7, 11.7: 6, 11.3: 11, 11.8: 9, 11.2: 8, 12.8: 21, 12.3: 11, 12.2: 11, 0.1: 7, 12.7: 11, 13.3: 13, 13.7: 4, 13.2: 9, 2.7: 8, 2.2: 3, 3.2: 6, 3.7: 4, 4.2: 11, 4.7: 2, 5.2: 6, 5.7: 4, 6.2: 9, 6.7: 8, 7.7: 12, 4.6: 10, 4.1: 7, 5.6: 9, 5.1: 6, 6.1: 6, 6.6: 7, 7.1: 11, 7.6: 9, 1.6: 7, 8.6: 11, 8.1: 6, 9.6: 10, 9.1: 10, 3.1: 5, 3.6: 3, 10.6: 15, 10.1: 13, 11.1: 10, 11.6: 11, 12.1: 12, 12.6: 9, 13.1: 11, 13.6: 4}\n"
          ],
          "name": "stdout"
        }
      ]
    },
    {
      "cell_type": "code",
      "metadata": {
        "colab": {
          "base_uri": "https://localhost:8080/",
          "height": 204
        },
        "id": "GVskcMeisfPc",
        "outputId": "60ea9055-aad6-40d8-b4f3-10501eaef30d"
      },
      "source": [
        "Sunshine_df = pd.DataFrame.from_dict(data=Sunshine_data, orient=\"index\", columns=[\"Sunshine\"])\r\n",
        "Sunshine_df.head()"
      ],
      "execution_count": null,
      "outputs": [
        {
          "output_type": "execute_result",
          "data": {
            "text/html": [
              "<div>\n",
              "<style scoped>\n",
              "    .dataframe tbody tr th:only-of-type {\n",
              "        vertical-align: middle;\n",
              "    }\n",
              "\n",
              "    .dataframe tbody tr th {\n",
              "        vertical-align: top;\n",
              "    }\n",
              "\n",
              "    .dataframe thead th {\n",
              "        text-align: right;\n",
              "    }\n",
              "</style>\n",
              "<table border=\"1\" class=\"dataframe\">\n",
              "  <thead>\n",
              "    <tr style=\"text-align: right;\">\n",
              "      <th></th>\n",
              "      <th>Sunshine</th>\n",
              "    </tr>\n",
              "  </thead>\n",
              "  <tbody>\n",
              "    <tr>\n",
              "      <th>0.8</th>\n",
              "      <td>8</td>\n",
              "    </tr>\n",
              "    <tr>\n",
              "      <th>1.1</th>\n",
              "      <td>7</td>\n",
              "    </tr>\n",
              "    <tr>\n",
              "      <th>2.6</th>\n",
              "      <td>6</td>\n",
              "    </tr>\n",
              "    <tr>\n",
              "      <th>2.1</th>\n",
              "      <td>5</td>\n",
              "    </tr>\n",
              "    <tr>\n",
              "      <th>4.3</th>\n",
              "      <td>7</td>\n",
              "    </tr>\n",
              "  </tbody>\n",
              "</table>\n",
              "</div>"
            ],
            "text/plain": [
              "     Sunshine\n",
              "0.8         8\n",
              "1.1         7\n",
              "2.6         6\n",
              "2.1         5\n",
              "4.3         7"
            ]
          },
          "metadata": {
            "tags": []
          },
          "execution_count": 53
        }
      ]
    },
    {
      "cell_type": "code",
      "metadata": {
        "colab": {
          "base_uri": "https://localhost:8080/",
          "height": 278
        },
        "id": "FBpR4B6SsfcV",
        "outputId": "82adc528-abdc-451e-808c-a40f1464bd94"
      },
      "source": [
        "Sunshine_df.plot.bar() \r\n",
        "x_major_locator=MultipleLocator(1)\r\n",
        "ax=plt.gca()\r\n",
        "ax.xaxis.set_major_locator(x_major_locator)\r\n",
        "plt.xlim(0,30)\r\n",
        "plt.show()"
      ],
      "execution_count": null,
      "outputs": [
        {
          "output_type": "display_data",
          "data": {
            "image/png": "[encoded data removed]",
            "text/plain": [
              "<Figure size 432x288 with 1 Axes>"
            ]
          },
          "metadata": {
            "tags": [],
            "needs_background": "light"
          }
        }
      ]
    },
    {
      "cell_type": "code",
      "metadata": {
        "colab": {
          "base_uri": "https://localhost:8080/",
          "height": 283
        },
        "id": "N-J1-xr7tkg2",
        "outputId": "ecf2a4ca-6205-4102-dedb-c549f97700c7"
      },
      "source": [
        "Sunshine_df.plot.box()"
      ],
      "execution_count": null,
      "outputs": [
        {
          "output_type": "execute_result",
          "data": {
            "text/plain": [
              "<matplotlib.axes._subplots.AxesSubplot at 0x7fc2c82dd450>"
            ]
          },
          "metadata": {
            "tags": []
          },
          "execution_count": 98
        },
        {
          "output_type": "display_data",
          "data": {
            "image/png": "[encoded data removed]",
            "text/plain": [
              "<Figure size 432x288 with 1 Axes>"
            ]
          },
          "metadata": {
            "tags": [],
            "needs_background": "light"
          }
        }
      ]
    },
    {
      "cell_type": "markdown",
      "metadata": {
        "id": "SCH85HR9RefD"
      },
      "source": [
        "Судя по процентному соотношению, можно сделать вывод, что женщины практически не участвовали в исследовании. Все равно построим график."
      ]
    },
    {
      "cell_type": "code",
      "metadata": {
        "id": "A1ThGg24s5v-",
        "colab": {
          "base_uri": "https://localhost:8080/"
        },
        "outputId": "45d3cb51-daa5-4062-dbb5-97b81e989727"
      },
      "source": [
        "WindGustDir_data = {WindGustDir: df[\"WindGustDir\"].to_list().count(WindGustDir) for WindGustDir in set(df[\"WindGustDir\"])}\n",
        "print(WindGustDir_data)"
      ],
      "execution_count": null,
      "outputs": [
        {
          "output_type": "stream",
          "text": [
            "{'NW': 76, 'SSE': 81, 'ESE': 79, 'NNW': 64, 'ENE': 29, 'WNW': 77, 'NE': 37, 'E': 24, 'WSW': 162, 'SSW': 32, 'SW': 144, 'N': 95, 'NNE': 36, 'W': 125, 'SE': 71, 'S': 16}\n"
          ],
          "name": "stdout"
        }
      ]
    },
    {
      "cell_type": "code",
      "metadata": {
        "id": "62WGMjrFt01Z",
        "colab": {
          "base_uri": "https://localhost:8080/",
          "height": 204
        },
        "outputId": "cdd72d0a-750b-4e06-c2f2-191f7b6cd076"
      },
      "source": [
        "WindGustDir_df = pd.DataFrame.from_dict(data=WindGustDir_data, orient=\"index\", columns=[\"WindGustDir\"])\n",
        "WindGustDir_df.head()"
      ],
      "execution_count": null,
      "outputs": [
        {
          "output_type": "execute_result",
          "data": {
            "text/html": [
              "<div>\n",
              "<style scoped>\n",
              "    .dataframe tbody tr th:only-of-type {\n",
              "        vertical-align: middle;\n",
              "    }\n",
              "\n",
              "    .dataframe tbody tr th {\n",
              "        vertical-align: top;\n",
              "    }\n",
              "\n",
              "    .dataframe thead th {\n",
              "        text-align: right;\n",
              "    }\n",
              "</style>\n",
              "<table border=\"1\" class=\"dataframe\">\n",
              "  <thead>\n",
              "    <tr style=\"text-align: right;\">\n",
              "      <th></th>\n",
              "      <th>WindGustDir</th>\n",
              "    </tr>\n",
              "  </thead>\n",
              "  <tbody>\n",
              "    <tr>\n",
              "      <th>NW</th>\n",
              "      <td>76</td>\n",
              "    </tr>\n",
              "    <tr>\n",
              "      <th>SSE</th>\n",
              "      <td>81</td>\n",
              "    </tr>\n",
              "    <tr>\n",
              "      <th>ESE</th>\n",
              "      <td>79</td>\n",
              "    </tr>\n",
              "    <tr>\n",
              "      <th>NNW</th>\n",
              "      <td>64</td>\n",
              "    </tr>\n",
              "    <tr>\n",
              "      <th>ENE</th>\n",
              "      <td>29</td>\n",
              "    </tr>\n",
              "  </tbody>\n",
              "</table>\n",
              "</div>"
            ],
            "text/plain": [
              "     WindGustDir\n",
              "NW            76\n",
              "SSE           81\n",
              "ESE           79\n",
              "NNW           64\n",
              "ENE           29"
            ]
          },
          "metadata": {
            "tags": []
          },
          "execution_count": 70
        }
      ]
    },
    {
      "cell_type": "code",
      "metadata": {
        "colab": {
          "base_uri": "https://localhost:8080/",
          "height": 283
        },
        "id": "UiurHx6y33Z5",
        "outputId": "0c57ef93-54c1-4468-cb3d-914d981439d5"
      },
      "source": [
        "WindGustDir_df.plot.barh()"
      ],
      "execution_count": null,
      "outputs": [
        {
          "output_type": "execute_result",
          "data": {
            "text/plain": [
              "<matplotlib.axes._subplots.AxesSubplot at 0x7fc2c87c45d0>"
            ]
          },
          "metadata": {
            "tags": []
          },
          "execution_count": 77
        },
        {
          "output_type": "display_data",
          "data": {
            "image/png": "[encoded data removed]",
            "text/plain": [
              "<Figure size 432x288 with 1 Axes>"
            ]
          },
          "metadata": {
            "tags": [],
            "needs_background": "light"
          }
        }
      ]
    },
    {
      "cell_type": "code",
      "metadata": {
        "colab": {
          "base_uri": "https://localhost:8080/"
        },
        "id": "dH5816cjrAt6",
        "outputId": "633fe22c-9aef-45f8-df6f-013a1a7977d0"
      },
      "source": [
        "WindGustSpeed_data = {WindGustSpeed: df[\"WindGustSpeed\"].to_list().count(WindGustSpeed) for WindGustSpeed in set(df[\"WindGustSpeed\"])}\n",
        "print(WindGustSpeed_data)"
      ],
      "execution_count": null,
      "outputs": [
        {
          "output_type": "stream",
          "text": [
            "{13: 1, 15: 1, 17: 2, 19: 10, 20: 23, 22: 22, 24: 42, 26: 46, 28: 77, 30: 68, 31: 97, 33: 57, 35: 109, 37: 65, 39: 90, 41: 69, 43: 59, 44: 42, 46: 49, 48: 47, 50: 27, 52: 21, 54: 27, 56: 17, 57: 10, 59: 11, 61: 15, 63: 3, 65: 14, 67: 5, 69: 5, 70: 3, 74: 5, 76: 3, 78: 2, 80: 2, 81: 2}\n"
          ],
          "name": "stdout"
        }
      ]
    },
    {
      "cell_type": "code",
      "metadata": {
        "colab": {
          "base_uri": "https://localhost:8080/",
          "height": 204
        },
        "id": "U01MNUD0ugoI",
        "outputId": "5a09ff02-4ecb-4948-f806-9210f66a2a99"
      },
      "source": [
        "WindGustSpeed_df = pd.DataFrame.from_dict(data=WindGustSpeed_data, orient=\"index\", columns=[\"WindGustSpeed\"])\r\n",
        "WindGustSpeed_df.head()"
      ],
      "execution_count": null,
      "outputs": [
        {
          "output_type": "execute_result",
          "data": {
            "text/html": [
              "<div>\n",
              "<style scoped>\n",
              "    .dataframe tbody tr th:only-of-type {\n",
              "        vertical-align: middle;\n",
              "    }\n",
              "\n",
              "    .dataframe tbody tr th {\n",
              "        vertical-align: top;\n",
              "    }\n",
              "\n",
              "    .dataframe thead th {\n",
              "        text-align: right;\n",
              "    }\n",
              "</style>\n",
              "<table border=\"1\" class=\"dataframe\">\n",
              "  <thead>\n",
              "    <tr style=\"text-align: right;\">\n",
              "      <th></th>\n",
              "      <th>WindGustSpeed</th>\n",
              "    </tr>\n",
              "  </thead>\n",
              "  <tbody>\n",
              "    <tr>\n",
              "      <th>13</th>\n",
              "      <td>1</td>\n",
              "    </tr>\n",
              "    <tr>\n",
              "      <th>15</th>\n",
              "      <td>1</td>\n",
              "    </tr>\n",
              "    <tr>\n",
              "      <th>17</th>\n",
              "      <td>2</td>\n",
              "    </tr>\n",
              "    <tr>\n",
              "      <th>19</th>\n",
              "      <td>10</td>\n",
              "    </tr>\n",
              "    <tr>\n",
              "      <th>20</th>\n",
              "      <td>23</td>\n",
              "    </tr>\n",
              "  </tbody>\n",
              "</table>\n",
              "</div>"
            ],
            "text/plain": [
              "    WindGustSpeed\n",
              "13              1\n",
              "15              1\n",
              "17              2\n",
              "19             10\n",
              "20             23"
            ]
          },
          "metadata": {
            "tags": []
          },
          "execution_count": 80
        }
      ]
    },
    {
      "cell_type": "code",
      "metadata": {
        "colab": {
          "base_uri": "https://localhost:8080/",
          "height": 283
        },
        "id": "eGMdO4mNuz2C",
        "outputId": "d111ab5f-27fc-4859-8034-772b3ad0b68f"
      },
      "source": [
        "WindGustSpeed_df.plot()"
      ],
      "execution_count": null,
      "outputs": [
        {
          "output_type": "execute_result",
          "data": {
            "text/plain": [
              "<matplotlib.axes._subplots.AxesSubplot at 0x7fc2c87e1950>"
            ]
          },
          "metadata": {
            "tags": []
          },
          "execution_count": 84
        },
        {
          "output_type": "display_data",
          "data": {
            "image/png": "[encoded data removed]",
            "text/plain": [
              "<Figure size 432x288 with 1 Axes>"
            ]
          },
          "metadata": {
            "tags": [],
            "needs_background": "light"
          }
        }
      ]
    },
    {
      "cell_type": "markdown",
      "metadata": {
        "id": "vBDcpwaAR_VB"
      },
      "source": [
        "Посмотрим, как колеблется число респондентов в группе интерквартильного размаха - содержащей наиболее релевантные данные."
      ]
    },
    {
      "cell_type": "code",
      "metadata": {
        "id": "x3rJfAuZ4MXT",
        "colab": {
          "base_uri": "https://localhost:8080/"
        },
        "outputId": "df8e9428-f09b-4710-d64e-356b54ba5e3d"
      },
      "source": [
        "WindDir9am_data = {WindDir9am: df[\"WindDir9am\"].to_list().count(WindDir9am) for WindDir9am in set(df[\"WindDir9am\"])}\n",
        "print(WindDir9am_data)"
      ],
      "execution_count": null,
      "outputs": [
        {
          "output_type": "stream",
          "text": [
            "{'NW': 36, 'ESE': 42, 'SSE': 40, 'NNW': 53, 'ENE': 56, 'WNW': 42, 'NE': 161, 'E': 37, 'WSW': 48, 'SSW': 74, 'SW': 91, 'N': 155, 'NNE': 143, 'W': 33, 'SE': 44, 'S': 93}\n"
          ],
          "name": "stdout"
        }
      ]
    },
    {
      "cell_type": "code",
      "metadata": {
        "colab": {
          "base_uri": "https://localhost:8080/",
          "height": 204
        },
        "id": "NLEdgKtwGe1X",
        "outputId": "61a923d5-18f9-4d70-9d99-cc32cba2644c"
      },
      "source": [
        "WindDir9am_df = pd.DataFrame.from_dict(data=WindDir9am_data, orient=\"index\", columns=[\"WindDir9am\"])\r\n",
        "WindDir9am_df.head()"
      ],
      "execution_count": null,
      "outputs": [
        {
          "output_type": "execute_result",
          "data": {
            "text/html": [
              "<div>\n",
              "<style scoped>\n",
              "    .dataframe tbody tr th:only-of-type {\n",
              "        vertical-align: middle;\n",
              "    }\n",
              "\n",
              "    .dataframe tbody tr th {\n",
              "        vertical-align: top;\n",
              "    }\n",
              "\n",
              "    .dataframe thead th {\n",
              "        text-align: right;\n",
              "    }\n",
              "</style>\n",
              "<table border=\"1\" class=\"dataframe\">\n",
              "  <thead>\n",
              "    <tr style=\"text-align: right;\">\n",
              "      <th></th>\n",
              "      <th>WindDir9am</th>\n",
              "    </tr>\n",
              "  </thead>\n",
              "  <tbody>\n",
              "    <tr>\n",
              "      <th>NW</th>\n",
              "      <td>36</td>\n",
              "    </tr>\n",
              "    <tr>\n",
              "      <th>ESE</th>\n",
              "      <td>42</td>\n",
              "    </tr>\n",
              "    <tr>\n",
              "      <th>SSE</th>\n",
              "      <td>40</td>\n",
              "    </tr>\n",
              "    <tr>\n",
              "      <th>NNW</th>\n",
              "      <td>53</td>\n",
              "    </tr>\n",
              "    <tr>\n",
              "      <th>ENE</th>\n",
              "      <td>56</td>\n",
              "    </tr>\n",
              "  </tbody>\n",
              "</table>\n",
              "</div>"
            ],
            "text/plain": [
              "     WindDir9am\n",
              "NW           36\n",
              "ESE          42\n",
              "SSE          40\n",
              "NNW          53\n",
              "ENE          56"
            ]
          },
          "metadata": {
            "tags": []
          },
          "execution_count": 86
        }
      ]
    },
    {
      "cell_type": "code",
      "metadata": {
        "colab": {
          "base_uri": "https://localhost:8080/",
          "height": 283
        },
        "id": "vnF2uIUPxZmW",
        "outputId": "053238e7-7f33-47cd-e96b-bf6925ae84af"
      },
      "source": [
        "WindDir9am_df.plot.barh()"
      ],
      "execution_count": null,
      "outputs": [
        {
          "output_type": "execute_result",
          "data": {
            "text/plain": [
              "<matplotlib.axes._subplots.AxesSubplot at 0x7fc2c88ba5d0>"
            ]
          },
          "metadata": {
            "tags": []
          },
          "execution_count": 87
        },
        {
          "output_type": "display_data",
          "data": {
            "image/png": "[encoded data removed]",
            "text/plain": [
              "<Figure size 432x288 with 1 Axes>"
            ]
          },
          "metadata": {
            "tags": [],
            "needs_background": "light"
          }
        }
      ]
    },
    {
      "cell_type": "markdown",
      "metadata": {
        "id": "AT49ZAprSROn"
      },
      "source": [
        "Посмотрим, в какой возрастной группе больше выживших, а в какой умерших."
      ]
    },
    {
      "cell_type": "code",
      "metadata": {
        "colab": {
          "base_uri": "https://localhost:8080/"
        },
        "id": "id6khqlJ5B84",
        "outputId": "2f7e4912-cf12-47f1-bc71-ff0922704762"
      },
      "source": [
        "Evaporation_data = {Evaporation: df[\"Evaporation\"].to_list().count(Evaporation) for Evaporation in set(df[\"Evaporation\"])}\n",
        "print(Evaporation_data)"
      ],
      "execution_count": null,
      "outputs": [
        {
          "output_type": "stream",
          "text": [
            "{0.8: 24, 1.6: 36, 1.8: 25, 1.4: 43, 4.6: 22, 1.2: 37, 2.8: 32, 7.0: 21, 4.0: 24, 1.0: 35, 4.4: 29, 2.0: 29, 5.8: 18, 5.0: 25, 7.6: 17, 14.4: 3, 3.0: 25, 12.0: 3, 16.4: 3, 19.0: 3, 20.0: 4, 15.2: 4, 15.4: 2, 20.8: 1, 24.6: 2, 22.6: 2, 24.8: 2, 27.2: 3, 27.6: 1, 24.0: 2, 28.8: 1, 6.0: 20, 32.2: 2, 25.4: 1, 28.0: 1, 35.0: 1, 36.0: 1, 33.6: 1, 0.0: 1, 33.8: 1, 34.0: 1, 8.0: 19, 9.0: 4, 10.0: 6, 11.0: 3, 13.0: 5, 14.0: 2, 15.0: 2, 16.0: 3, 17.0: 1, 17.4: 1, 18.4: 1, 19.6: 1, 20.6: 3, 21.4: 1, 2.4: 27, 21.6: 1, 21.0: 2, 22.4: 3, 3.4: 28, 23.4: 2, 23.6: 1, 24.4: 1, 25.6: 1, 0.2: 5, 26.4: 1, 27.4: 1, 5.4: 25, 6.4: 15, 7.4: 16, 8.4: 9, 9.4: 8, 10.4: 2, 11.4: 11, 12.4: 2, 13.4: 2, 3.8: 18, 4.8: 18, 5.3: 1, 6.8: 17, 7.8: 9, 0.6: 22, 0.4: 10, 8.2: 8, 8.8: 6, 9.8: 8, 9.2: 8, 10.2: 9, 10.8: 7, 11.8: 6, 11.2: 4, 12.8: 2, 12.2: 3, 13.2: 3, 13.8: 4, 14.2: 4, 14.8: 2, 2.2: 22, 3.2: 16, 16.2: 3, 16.8: 2, 4.2: 21, 17.2: 4, 17.8: 2, 5.2: 16, 18.8: 3, 18.2: 2, 6.2: 24, 7.2: 13, 21.2: 1, 21.8: 1, 22.2: 1, 23.2: 1, 24.2: 3, 26.8: 1, 28.2: 1, 5.6: 14, 6.6: 17, 8.6: 10, 2.6: 29, 9.6: 10, 3.6: 21, 10.6: 4, 11.6: 4, 12.6: 4, 13.6: 2, 14.6: 3, 15.6: 1}\n"
          ],
          "name": "stdout"
        }
      ]
    },
    {
      "cell_type": "code",
      "metadata": {
        "id": "gzD3VB0f9Ph7",
        "colab": {
          "base_uri": "https://localhost:8080/",
          "height": 204
        },
        "outputId": "c4b4e28f-68d4-4b19-8d49-599620b34453"
      },
      "source": [
        "Evaporation_df = pd.DataFrame.from_dict(data=Evaporation_data, orient=\"index\", columns=[\"Evaporation\"])\n",
        "Evaporation_df.head()"
      ],
      "execution_count": null,
      "outputs": [
        {
          "output_type": "execute_result",
          "data": {
            "text/html": [
              "<div>\n",
              "<style scoped>\n",
              "    .dataframe tbody tr th:only-of-type {\n",
              "        vertical-align: middle;\n",
              "    }\n",
              "\n",
              "    .dataframe tbody tr th {\n",
              "        vertical-align: top;\n",
              "    }\n",
              "\n",
              "    .dataframe thead th {\n",
              "        text-align: right;\n",
              "    }\n",
              "</style>\n",
              "<table border=\"1\" class=\"dataframe\">\n",
              "  <thead>\n",
              "    <tr style=\"text-align: right;\">\n",
              "      <th></th>\n",
              "      <th>Evaporation</th>\n",
              "    </tr>\n",
              "  </thead>\n",
              "  <tbody>\n",
              "    <tr>\n",
              "      <th>0.8</th>\n",
              "      <td>24</td>\n",
              "    </tr>\n",
              "    <tr>\n",
              "      <th>1.6</th>\n",
              "      <td>36</td>\n",
              "    </tr>\n",
              "    <tr>\n",
              "      <th>1.8</th>\n",
              "      <td>25</td>\n",
              "    </tr>\n",
              "    <tr>\n",
              "      <th>1.4</th>\n",
              "      <td>43</td>\n",
              "    </tr>\n",
              "    <tr>\n",
              "      <th>4.6</th>\n",
              "      <td>22</td>\n",
              "    </tr>\n",
              "  </tbody>\n",
              "</table>\n",
              "</div>"
            ],
            "text/plain": [
              "     Evaporation\n",
              "0.8           24\n",
              "1.6           36\n",
              "1.8           25\n",
              "1.4           43\n",
              "4.6           22"
            ]
          },
          "metadata": {
            "tags": []
          },
          "execution_count": 89
        }
      ]
    },
    {
      "cell_type": "code",
      "metadata": {
        "id": "r37Hrbi72sKu",
        "colab": {
          "base_uri": "https://localhost:8080/",
          "height": 278
        },
        "outputId": "a15224bc-489a-450a-ac24-3b8a4a5178d4"
      },
      "source": [
        "Evaporation_df.plot.bar() \r\n",
        "x_major_locator=MultipleLocator(1)\r\n",
        "ax=plt.gca()\r\n",
        "ax.xaxis.set_major_locator(x_major_locator)\r\n",
        "plt.xlim(0,30)\r\n",
        "plt.show()"
      ],
      "execution_count": null,
      "outputs": [
        {
          "output_type": "display_data",
          "data": {
            "image/png": "[encoded data removed]",
            "text/plain": [
              "<Figure size 432x288 with 1 Axes>"
            ]
          },
          "metadata": {
            "tags": [],
            "needs_background": "light"
          }
        }
      ]
    }
  ]
}